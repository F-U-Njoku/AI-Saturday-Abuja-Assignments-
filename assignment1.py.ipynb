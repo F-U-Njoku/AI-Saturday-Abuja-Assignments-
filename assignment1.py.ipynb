{
 "cells": [
  {
   "cell_type": "markdown",
   "metadata": {},
   "source": [
    "# Question 1 & 2"
   ]
  },
  {
   "cell_type": "code",
   "execution_count": 14,
   "metadata": {},
   "outputs": [
    {
     "name": "stdout",
     "output_type": "stream",
     "text": [
      "My name is Njoku, Uchechukwu Fortune and at the end of this cohort I want to understand Artificial Intelligence theoritically and practically.\n"
     ]
    }
   ],
   "source": [
    "myIntro = {\"fullName\": \"Njoku, Uchechukwu Fortune\", \"reasonForAttendingAISaturday\": \"understand Artificial Intelligence theoritically and practically.\"}\n",
    "\n",
    "print(\"My name is \"+ myIntro[\"fullName\"] +\" and at the end of this cohort I want to \"+ myIntro[\"reasonForAttendingAISaturday\"])"
   ]
  },
  {
   "cell_type": "markdown",
   "metadata": {},
   "source": [
    "# Question 3 & 4"
   ]
  },
  {
   "cell_type": "code",
   "execution_count": 17,
   "metadata": {},
   "outputs": [
    {
     "name": "stdout",
     "output_type": "stream",
     "text": [
      "Number of even numbers:  4\n",
      "Number of odd numbers:  5\n"
     ]
    }
   ],
   "source": [
    "def numCount(series):\n",
    "    odd, even = 0,0\n",
    "    for i in series:\n",
    "        if i % 2 == 0:\n",
    "            even += 1\n",
    "        else: odd += 1\n",
    "    print(\"Number of even numbers: \", even)\n",
    "    print(\"Number of odd numbers: \", odd)\n",
    "\n",
    "numCount((1, 2, 3, 4, 5, 6, 7, 8, 9))"
   ]
  }
 ],
 "metadata": {
  "kernelspec": {
   "display_name": "Python 3",
   "language": "python",
   "name": "python3"
  },
  "language_info": {
   "codemirror_mode": {
    "name": "ipython",
    "version": 3
   },
   "file_extension": ".py",
   "mimetype": "text/x-python",
   "name": "python",
   "nbconvert_exporter": "python",
   "pygments_lexer": "ipython3",
   "version": "3.6.5"
  }
 },
 "nbformat": 4,
 "nbformat_minor": 2
}
